{
 "cells": [
  {
   "cell_type": "markdown",
   "metadata": {},
   "source": [
    "# Loan predictions\n",
    "\n",
    "## Problem Statement\n",
    "\n",
    "We want to automate the loan eligibility process based on customer details that are provided as online application forms are being filled. You can find the dataset [here](https://drive.google.com/file/d/1h_jl9xqqqHflI5PsuiQd_soNYxzFfjKw/view?usp=sharing). These details concern the customer's Gender, Marital Status, Education, Number of Dependents, Income, Loan Amount, Credit History and other things as well. \n",
    "\n",
    "|Variable| Description|\n",
    "|: ------------- |:-------------|\n",
    "|Loan_ID| Unique Loan ID|\n",
    "|Gender| Male/ Female|\n",
    "|Married| Applicant married (Y/N)|\n",
    "|Dependents| Number of dependents|\n",
    "|Education| Applicant Education (Graduate/ Under Graduate)|\n",
    "|Self_Employed| Self employed (Y/N)|\n",
    "|ApplicantIncome| Applicant income|\n",
    "|CoapplicantIncome| Coapplicant income|\n",
    "|LoanAmount| Loan amount in thousands|\n",
    "|Loan_Amount_Term| Term of loan in months|\n",
    "|Credit_History| credit history meets guidelines|\n",
    "|Property_Area| Urban/ Semi Urban/ Rural|\n",
    "|Loan_Status| Loan approved (Y/N)\n",
    "\n",
    "\n",
    "\n",
    "### Explore the problem in following stages:\n",
    "\n",
    "1. Hypothesis Generation – understanding the problem better by brainstorming possible factors that can impact the outcome\n",
    "2. Data Exploration – looking at categorical and continuous feature summaries and making inferences about the data.\n",
    "3. Data Cleaning – imputing missing values in the data and checking for outliers\n",
    "4. Feature Engineering – modifying existing variables and creating new ones for analysis\n",
    "5. Model Building – making predictive models on the data"
   ]
  },
  {
   "cell_type": "markdown",
   "metadata": {},
   "source": [
    "## 1. Hypothesis Generation\n",
    "\n",
    "Generating a hypothesis is a major step in the process of analyzing data. This involves understanding the problem and formulating a meaningful hypothesis about what could potentially have a good impact on the outcome. This is done BEFORE looking at the data, and we end up creating a laundry list of the different analyses which we can potentially perform if data is available.\n",
    "\n",
    "#### Possible hypotheses\n",
    "Which applicants are more likely to get a loan\n",
    "\n",
    "1. Applicants having a credit history \n",
    "2. Applicants with higher applicant and co-applicant incomes\n",
    "3. Applicants with higher education level\n",
    "4. Properties in urban areas with high growth perspectives\n",
    "\n",
    "Do more brainstorming and create some hypotheses of your own. Remember that the data might not be sufficient to test all of these, but forming these enables a better understanding of the problem."
   ]
  },
  {
   "cell_type": "markdown",
   "metadata": {},
   "source": [
    "## 2. Data Exploration\n",
    "Let's do some basic data exploration here and come up with some inferences about the data. Go ahead and try to figure out some irregularities and address them in the next section. "
   ]
  },
  {
   "cell_type": "code",
   "execution_count": 1,
   "metadata": {
    "collapsed": false,
    "jupyter": {
     "outputs_hidden": false
    }
   },
   "outputs": [
    {
     "data": {
      "text/html": [
       "<div>\n",
       "<style scoped>\n",
       "    .dataframe tbody tr th:only-of-type {\n",
       "        vertical-align: middle;\n",
       "    }\n",
       "\n",
       "    .dataframe tbody tr th {\n",
       "        vertical-align: top;\n",
       "    }\n",
       "\n",
       "    .dataframe thead th {\n",
       "        text-align: right;\n",
       "    }\n",
       "</style>\n",
       "<table border=\"1\" class=\"dataframe\">\n",
       "  <thead>\n",
       "    <tr style=\"text-align: right;\">\n",
       "      <th></th>\n",
       "      <th>Loan_ID</th>\n",
       "      <th>Gender</th>\n",
       "      <th>Married</th>\n",
       "      <th>Dependents</th>\n",
       "      <th>Education</th>\n",
       "      <th>Self_Employed</th>\n",
       "      <th>ApplicantIncome</th>\n",
       "      <th>CoapplicantIncome</th>\n",
       "      <th>LoanAmount</th>\n",
       "      <th>Loan_Amount_Term</th>\n",
       "      <th>Credit_History</th>\n",
       "      <th>Property_Area</th>\n",
       "      <th>Loan_Status</th>\n",
       "    </tr>\n",
       "  </thead>\n",
       "  <tbody>\n",
       "    <tr>\n",
       "      <th>0</th>\n",
       "      <td>LP001002</td>\n",
       "      <td>Male</td>\n",
       "      <td>No</td>\n",
       "      <td>0</td>\n",
       "      <td>Graduate</td>\n",
       "      <td>No</td>\n",
       "      <td>5849</td>\n",
       "      <td>0.0</td>\n",
       "      <td>NaN</td>\n",
       "      <td>360.0</td>\n",
       "      <td>1.0</td>\n",
       "      <td>Urban</td>\n",
       "      <td>Y</td>\n",
       "    </tr>\n",
       "    <tr>\n",
       "      <th>1</th>\n",
       "      <td>LP001003</td>\n",
       "      <td>Male</td>\n",
       "      <td>Yes</td>\n",
       "      <td>1</td>\n",
       "      <td>Graduate</td>\n",
       "      <td>No</td>\n",
       "      <td>4583</td>\n",
       "      <td>1508.0</td>\n",
       "      <td>128.0</td>\n",
       "      <td>360.0</td>\n",
       "      <td>1.0</td>\n",
       "      <td>Rural</td>\n",
       "      <td>N</td>\n",
       "    </tr>\n",
       "    <tr>\n",
       "      <th>2</th>\n",
       "      <td>LP001005</td>\n",
       "      <td>Male</td>\n",
       "      <td>Yes</td>\n",
       "      <td>0</td>\n",
       "      <td>Graduate</td>\n",
       "      <td>Yes</td>\n",
       "      <td>3000</td>\n",
       "      <td>0.0</td>\n",
       "      <td>66.0</td>\n",
       "      <td>360.0</td>\n",
       "      <td>1.0</td>\n",
       "      <td>Urban</td>\n",
       "      <td>Y</td>\n",
       "    </tr>\n",
       "    <tr>\n",
       "      <th>3</th>\n",
       "      <td>LP001006</td>\n",
       "      <td>Male</td>\n",
       "      <td>Yes</td>\n",
       "      <td>0</td>\n",
       "      <td>Not Graduate</td>\n",
       "      <td>No</td>\n",
       "      <td>2583</td>\n",
       "      <td>2358.0</td>\n",
       "      <td>120.0</td>\n",
       "      <td>360.0</td>\n",
       "      <td>1.0</td>\n",
       "      <td>Urban</td>\n",
       "      <td>Y</td>\n",
       "    </tr>\n",
       "    <tr>\n",
       "      <th>4</th>\n",
       "      <td>LP001008</td>\n",
       "      <td>Male</td>\n",
       "      <td>No</td>\n",
       "      <td>0</td>\n",
       "      <td>Graduate</td>\n",
       "      <td>No</td>\n",
       "      <td>6000</td>\n",
       "      <td>0.0</td>\n",
       "      <td>141.0</td>\n",
       "      <td>360.0</td>\n",
       "      <td>1.0</td>\n",
       "      <td>Urban</td>\n",
       "      <td>Y</td>\n",
       "    </tr>\n",
       "  </tbody>\n",
       "</table>\n",
       "</div>"
      ],
      "text/plain": [
       "    Loan_ID Gender Married Dependents     Education Self_Employed  \\\n",
       "0  LP001002   Male      No          0      Graduate            No   \n",
       "1  LP001003   Male     Yes          1      Graduate            No   \n",
       "2  LP001005   Male     Yes          0      Graduate           Yes   \n",
       "3  LP001006   Male     Yes          0  Not Graduate            No   \n",
       "4  LP001008   Male      No          0      Graduate            No   \n",
       "\n",
       "   ApplicantIncome  CoapplicantIncome  LoanAmount  Loan_Amount_Term  \\\n",
       "0             5849                0.0         NaN             360.0   \n",
       "1             4583             1508.0       128.0             360.0   \n",
       "2             3000                0.0        66.0             360.0   \n",
       "3             2583             2358.0       120.0             360.0   \n",
       "4             6000                0.0       141.0             360.0   \n",
       "\n",
       "   Credit_History Property_Area Loan_Status  \n",
       "0             1.0         Urban           Y  \n",
       "1             1.0         Rural           N  \n",
       "2             1.0         Urban           Y  \n",
       "3             1.0         Urban           Y  \n",
       "4             1.0         Urban           Y  "
      ]
     },
     "execution_count": 1,
     "metadata": {},
     "output_type": "execute_result"
    }
   ],
   "source": [
    "import os\n",
    "import pandas as pd\n",
    "import numpy as np\n",
    "from matplotlib import pyplot as plt\n",
    "import seaborn as sns\n",
    "os.chdir('/Users/calebward/LHL_project_IV')\n",
    "df = pd.read_csv(\"data/data.csv\") \n",
    "df.head()"
   ]
  },
  {
   "cell_type": "markdown",
   "metadata": {},
   "source": [
    "One of the key challenges in any data set are missing values. Lets start by checking which columns contain missing values."
   ]
  },
  {
   "cell_type": "code",
   "execution_count": 2,
   "metadata": {
    "collapsed": false,
    "jupyter": {
     "outputs_hidden": false
    }
   },
   "outputs": [
    {
     "name": "stdout",
     "output_type": "stream",
     "text": [
      "<class 'pandas.core.frame.DataFrame'>\n",
      "RangeIndex: 614 entries, 0 to 613\n",
      "Data columns (total 13 columns):\n",
      " #   Column             Non-Null Count  Dtype  \n",
      "---  ------             --------------  -----  \n",
      " 0   Loan_ID            614 non-null    object \n",
      " 1   Gender             601 non-null    object \n",
      " 2   Married            611 non-null    object \n",
      " 3   Dependents         599 non-null    object \n",
      " 4   Education          614 non-null    object \n",
      " 5   Self_Employed      582 non-null    object \n",
      " 6   ApplicantIncome    614 non-null    int64  \n",
      " 7   CoapplicantIncome  614 non-null    float64\n",
      " 8   LoanAmount         592 non-null    float64\n",
      " 9   Loan_Amount_Term   600 non-null    float64\n",
      " 10  Credit_History     564 non-null    float64\n",
      " 11  Property_Area      614 non-null    object \n",
      " 12  Loan_Status        614 non-null    object \n",
      "dtypes: float64(4), int64(1), object(8)\n",
      "memory usage: 62.5+ KB\n"
     ]
    }
   ],
   "source": [
    "df.info()"
   ]
  },
  {
   "cell_type": "markdown",
   "metadata": {},
   "source": [
    "Look at some basic statistics for numerical variables."
   ]
  },
  {
   "cell_type": "code",
   "execution_count": 3,
   "metadata": {
    "collapsed": false,
    "jupyter": {
     "outputs_hidden": false
    }
   },
   "outputs": [
    {
     "data": {
      "text/html": [
       "<div>\n",
       "<style scoped>\n",
       "    .dataframe tbody tr th:only-of-type {\n",
       "        vertical-align: middle;\n",
       "    }\n",
       "\n",
       "    .dataframe tbody tr th {\n",
       "        vertical-align: top;\n",
       "    }\n",
       "\n",
       "    .dataframe thead th {\n",
       "        text-align: right;\n",
       "    }\n",
       "</style>\n",
       "<table border=\"1\" class=\"dataframe\">\n",
       "  <thead>\n",
       "    <tr style=\"text-align: right;\">\n",
       "      <th></th>\n",
       "      <th>ApplicantIncome</th>\n",
       "      <th>CoapplicantIncome</th>\n",
       "      <th>LoanAmount</th>\n",
       "      <th>Loan_Amount_Term</th>\n",
       "      <th>Credit_History</th>\n",
       "    </tr>\n",
       "  </thead>\n",
       "  <tbody>\n",
       "    <tr>\n",
       "      <th>count</th>\n",
       "      <td>614.000000</td>\n",
       "      <td>614.000000</td>\n",
       "      <td>592.000000</td>\n",
       "      <td>600.00000</td>\n",
       "      <td>564.000000</td>\n",
       "    </tr>\n",
       "    <tr>\n",
       "      <th>mean</th>\n",
       "      <td>5403.459283</td>\n",
       "      <td>1621.245798</td>\n",
       "      <td>146.412162</td>\n",
       "      <td>342.00000</td>\n",
       "      <td>0.842199</td>\n",
       "    </tr>\n",
       "    <tr>\n",
       "      <th>std</th>\n",
       "      <td>6109.041673</td>\n",
       "      <td>2926.248369</td>\n",
       "      <td>85.587325</td>\n",
       "      <td>65.12041</td>\n",
       "      <td>0.364878</td>\n",
       "    </tr>\n",
       "    <tr>\n",
       "      <th>min</th>\n",
       "      <td>150.000000</td>\n",
       "      <td>0.000000</td>\n",
       "      <td>9.000000</td>\n",
       "      <td>12.00000</td>\n",
       "      <td>0.000000</td>\n",
       "    </tr>\n",
       "    <tr>\n",
       "      <th>25%</th>\n",
       "      <td>2877.500000</td>\n",
       "      <td>0.000000</td>\n",
       "      <td>100.000000</td>\n",
       "      <td>360.00000</td>\n",
       "      <td>1.000000</td>\n",
       "    </tr>\n",
       "    <tr>\n",
       "      <th>50%</th>\n",
       "      <td>3812.500000</td>\n",
       "      <td>1188.500000</td>\n",
       "      <td>128.000000</td>\n",
       "      <td>360.00000</td>\n",
       "      <td>1.000000</td>\n",
       "    </tr>\n",
       "    <tr>\n",
       "      <th>75%</th>\n",
       "      <td>5795.000000</td>\n",
       "      <td>2297.250000</td>\n",
       "      <td>168.000000</td>\n",
       "      <td>360.00000</td>\n",
       "      <td>1.000000</td>\n",
       "    </tr>\n",
       "    <tr>\n",
       "      <th>max</th>\n",
       "      <td>81000.000000</td>\n",
       "      <td>41667.000000</td>\n",
       "      <td>700.000000</td>\n",
       "      <td>480.00000</td>\n",
       "      <td>1.000000</td>\n",
       "    </tr>\n",
       "  </tbody>\n",
       "</table>\n",
       "</div>"
      ],
      "text/plain": [
       "       ApplicantIncome  CoapplicantIncome  LoanAmount  Loan_Amount_Term  \\\n",
       "count       614.000000         614.000000  592.000000         600.00000   \n",
       "mean       5403.459283        1621.245798  146.412162         342.00000   \n",
       "std        6109.041673        2926.248369   85.587325          65.12041   \n",
       "min         150.000000           0.000000    9.000000          12.00000   \n",
       "25%        2877.500000           0.000000  100.000000         360.00000   \n",
       "50%        3812.500000        1188.500000  128.000000         360.00000   \n",
       "75%        5795.000000        2297.250000  168.000000         360.00000   \n",
       "max       81000.000000       41667.000000  700.000000         480.00000   \n",
       "\n",
       "       Credit_History  \n",
       "count      564.000000  \n",
       "mean         0.842199  \n",
       "std          0.364878  \n",
       "min          0.000000  \n",
       "25%          1.000000  \n",
       "50%          1.000000  \n",
       "75%          1.000000  \n",
       "max          1.000000  "
      ]
     },
     "execution_count": 3,
     "metadata": {},
     "output_type": "execute_result"
    }
   ],
   "source": [
    "df.describe()"
   ]
  },
  {
   "cell_type": "markdown",
   "metadata": {},
   "source": [
    "1. How many applicants have a `Credit_History`? (`Credit_History` has value 1 for those who have a credit history and 0 otherwise)\n",
    "2. Is the `ApplicantIncome` distribution in line with your expectation? Similarly, what about `CoapplicantIncome`?\n",
    "3. Tip: Can you see a possible skewness in the data by comparing the mean to the median, i.e. the 50% figure of a feature.\n",
    "\n"
   ]
  },
  {
   "cell_type": "markdown",
   "metadata": {},
   "source": [
    "Let's discuss nominal (categorical) variable. Look at the number of unique values in each of them."
   ]
  },
  {
   "cell_type": "code",
   "execution_count": 4,
   "metadata": {
    "collapsed": false,
    "jupyter": {
     "outputs_hidden": false
    }
   },
   "outputs": [
    {
     "name": "stdout",
     "output_type": "stream",
     "text": [
      "['Male' 'Female' nan]\n",
      "['No' 'Yes' nan]\n",
      "['Graduate' 'Not Graduate']\n",
      "['No' 'Yes' nan]\n",
      "['Urban' 'Rural' 'Semiurban']\n",
      "['Y' 'N']\n"
     ]
    }
   ],
   "source": [
    "for col in df[['Gender','Married','Education','Self_Employed','Property_Area','Loan_Status']]:\n",
    "    print(df[col].unique())"
   ]
  },
  {
   "cell_type": "code",
   "execution_count": 5,
   "metadata": {},
   "outputs": [],
   "source": [
    "df.Loan_Status = df.Loan_Status.str.strip().map({\"Y\":\"Approved\", \"N\":\"Declined\"})"
   ]
  },
  {
   "cell_type": "markdown",
   "metadata": {},
   "source": [
    "Explore further using the frequency of different categories in each nominal variable. Exclude the ID obvious reasons."
   ]
  },
  {
   "cell_type": "code",
   "execution_count": 59,
   "metadata": {},
   "outputs": [
    {
     "data": {
      "text/plain": [
       "<seaborn.axisgrid.FacetGrid at 0x7fbb1170b4f0>"
      ]
     },
     "execution_count": 59,
     "metadata": {},
     "output_type": "execute_result"
    },
    {
     "data": {
      "image/png": "[encoded data removed]",
      "text/plain": [
       "<Figure size 480x400 with 2 Axes>"
      ]
     },
     "metadata": {},
     "output_type": "display_data"
    }
   ],
   "source": [
    "g = sns.catplot(\n",
    "    data=df,\n",
    "    x=\"Loan_Status\",\n",
    "    y=\"ApplicantIncome\",\n",
    "    col=\"Gender\",\n",
    "    kind=\"bar\",\n",
    "    height=4,\n",
    "    aspect=0.6\n",
    ")\n",
    "g.set_axis_labels('Loan Status', 'Applicant Income')\n",
    "g.set_titles('{col_name}')"
   ]
  },
  {
   "cell_type": "code",
   "execution_count": 51,
   "metadata": {},
   "outputs": [
    {
     "data": {
      "text/plain": [
       "<Figure size 640x480 with 0 Axes>"
      ]
     },
     "metadata": {},
     "output_type": "display_data"
    }
   ],
   "source": [
    "for col in df[['Gender','Married','Education','Self_Employed','Property_Area','Loan_Status']]:\n",
    "    sns.histplot(df.dropna(), x=col, hue=col)\n",
    "    plt.title(col.replace('_',' '))\n",
    "    plt.xlabel('')\n",
    "    plt.legend('',frameon=False)\n",
    "    plt.savefig(f'{col}.png')\n",
    "    plt.clf()"
   ]
  },
  {
   "cell_type": "code",
   "execution_count": null,
   "metadata": {
    "collapsed": false,
    "jupyter": {
     "outputs_hidden": false
    }
   },
   "outputs": [],
   "source": []
  },
  {
   "cell_type": "markdown",
   "metadata": {},
   "source": [
    "### Distribution analysis\n",
    "\n",
    "Study distribution of various variables. Plot the histogram of ApplicantIncome, try different number of bins.\n",
    "\n"
   ]
  },
  {
   "cell_type": "code",
   "execution_count": 8,
   "metadata": {
    "collapsed": false,
    "jupyter": {
     "outputs_hidden": false
    }
   },
   "outputs": [
    {
     "data": {
      "image/png": "[encoded data removed]",
      "text/plain": [
       "<Figure size 640x480 with 1 Axes>"
      ]
     },
     "metadata": {},
     "output_type": "display_data"
    },
    {
     "data": {
      "image/png": "[encoded data removed]",
      "text/plain": [
       "<Figure size 640x480 with 1 Axes>"
      ]
     },
     "metadata": {},
     "output_type": "display_data"
    },
    {
     "data": {
      "image/png": "[encoded data removed]",
      "text/plain": [
       "<Figure size 640x480 with 1 Axes>"
      ]
     },
     "metadata": {},
     "output_type": "display_data"
    },
    {
     "data": {
      "image/png": "[encoded data removed]",
      "text/plain": [
       "<Figure size 640x480 with 1 Axes>"
      ]
     },
     "metadata": {},
     "output_type": "display_data"
    },
    {
     "data": {
      "image/png": "[encoded data removed]",
      "text/plain": [
       "<Figure size 640x480 with 1 Axes>"
      ]
     },
     "metadata": {},
     "output_type": "display_data"
    },
    {
     "data": {
      "image/png": "[encoded data removed]",
      "text/plain": [
       "<Figure size 640x480 with 1 Axes>"
      ]
     },
     "metadata": {},
     "output_type": "display_data"
    },
    {
     "data": {
      "image/png": "[encoded data removed]",
      "text/plain": [
       "<Figure size 640x480 with 1 Axes>"
      ]
     },
     "metadata": {},
     "output_type": "display_data"
    },
    {
     "data": {
      "image/png": "[encoded data removed]",
      "text/plain": [
       "<Figure size 640x480 with 1 Axes>"
      ]
     },
     "metadata": {},
     "output_type": "display_data"
    },
    {
     "data": {
      "image/png": "[encoded data removed]",
      "text/plain": [
       "<Figure size 640x480 with 1 Axes>"
      ]
     },
     "metadata": {},
     "output_type": "display_data"
    },
    {
     "data": {
      "image/png": "[encoded data removed]",
      "text/plain": [
       "<Figure size 640x480 with 1 Axes>"
      ]
     },
     "metadata": {},
     "output_type": "display_data"
    }
   ],
   "source": [
    "for i in range(10):\n",
    "    plt.hist(df.ApplicantIncome, bins = 10*(i+1))\n",
    "    plt.show()"
   ]
  },
  {
   "cell_type": "markdown",
   "metadata": {},
   "source": [
    "\n",
    "Look at box plots to understand the distributions. "
   ]
  },
  {
   "cell_type": "code",
   "execution_count": 9,
   "metadata": {
    "collapsed": false,
    "jupyter": {
     "outputs_hidden": false
    }
   },
   "outputs": [
    {
     "data": {
      "text/plain": [
       "{'whiskers': [<matplotlib.lines.Line2D at 0x7fbb292f4190>,\n",
       "  <matplotlib.lines.Line2D at 0x7fbb292f4430>],\n",
       " 'caps': [<matplotlib.lines.Line2D at 0x7fbb292f46d0>,\n",
       "  <matplotlib.lines.Line2D at 0x7fbb292f4970>],\n",
       " 'boxes': [<matplotlib.lines.Line2D at 0x7fbb292e7eb0>],\n",
       " 'medians': [<matplotlib.lines.Line2D at 0x7fbb292f4c10>],\n",
       " 'fliers': [<matplotlib.lines.Line2D at 0x7fbb292f4eb0>],\n",
       " 'means': []}"
      ]
     },
     "execution_count": 9,
     "metadata": {},
     "output_type": "execute_result"
    },
    {
     "data": {
      "image/png": "[encoded data removed]",
      "text/plain": [
       "<Figure size 640x480 with 1 Axes>"
      ]
     },
     "metadata": {},
     "output_type": "display_data"
    }
   ],
   "source": [
    "plt.boxplot(df.ApplicantIncome)"
   ]
  },
  {
   "cell_type": "markdown",
   "metadata": {},
   "source": [
    "Look at the distribution of income segregated  by `Education`"
   ]
  },
  {
   "cell_type": "code",
   "execution_count": null,
   "metadata": {},
   "outputs": [],
   "source": []
  },
  {
   "cell_type": "code",
   "execution_count": 10,
   "metadata": {
    "collapsed": false,
    "jupyter": {
     "outputs_hidden": false
    }
   },
   "outputs": [
    {
     "data": {
      "text/plain": [
       "{'whiskers': [<matplotlib.lines.Line2D at 0x7fbb29660610>,\n",
       "  <matplotlib.lines.Line2D at 0x7fbb296608b0>,\n",
       "  <matplotlib.lines.Line2D at 0x7fbb29648790>,\n",
       "  <matplotlib.lines.Line2D at 0x7fbb29648a30>],\n",
       " 'caps': [<matplotlib.lines.Line2D at 0x7fbb29660a30>,\n",
       "  <matplotlib.lines.Line2D at 0x7fbb29660cd0>,\n",
       "  <matplotlib.lines.Line2D at 0x7fbb29648cd0>,\n",
       "  <matplotlib.lines.Line2D at 0x7fbb29648f70>],\n",
       " 'boxes': [<matplotlib.lines.Line2D at 0x7fbb29660370>,\n",
       "  <matplotlib.lines.Line2D at 0x7fbb296484f0>],\n",
       " 'medians': [<matplotlib.lines.Line2D at 0x7fbb29660f70>,\n",
       "  <matplotlib.lines.Line2D at 0x7fbb28504250>],\n",
       " 'fliers': [<matplotlib.lines.Line2D at 0x7fbb29648250>,\n",
       "  <matplotlib.lines.Line2D at 0x7fbb285044f0>],\n",
       " 'means': []}"
      ]
     },
     "execution_count": 10,
     "metadata": {},
     "output_type": "execute_result"
    },
    {
     "data": {
      "image/png": "[encoded data removed]",
      "text/plain": [
       "<Figure size 640x480 with 1 Axes>"
      ]
     },
     "metadata": {},
     "output_type": "display_data"
    }
   ],
   "source": [
    "plt.boxplot([df.loc[df.Education == 'Graduate']['ApplicantIncome'],df.loc[df.Education == 'Not Graduate']['ApplicantIncome']])"
   ]
  },
  {
   "cell_type": "markdown",
   "metadata": {},
   "source": [
    "Look at the histogram and boxplot of LoanAmount"
   ]
  },
  {
   "cell_type": "code",
   "execution_count": 11,
   "metadata": {
    "collapsed": false,
    "jupyter": {
     "outputs_hidden": false
    }
   },
   "outputs": [
    {
     "data": {
      "image/png": "[encoded data removed]",
      "text/plain": [
       "<Figure size 640x480 with 1 Axes>"
      ]
     },
     "metadata": {},
     "output_type": "display_data"
    }
   ],
   "source": [
    "plt.hist(df.LoanAmount)\n",
    "plt.show()"
   ]
  },
  {
   "cell_type": "markdown",
   "metadata": {},
   "source": [
    "There might be some extreme values. Both `ApplicantIncome` and `LoanAmount` require some amount of data munging. `LoanAmount` has missing and well as extreme values values, while `ApplicantIncome` has a few extreme values, which demand deeper understanding. "
   ]
  },
  {
   "cell_type": "markdown",
   "metadata": {},
   "source": [
    "### Categorical variable analysis\n",
    "\n",
    "Try to understand categorical variables in more details using `pandas.DataFrame.pivot_table` and some visualizations."
   ]
  },
  {
   "cell_type": "code",
   "execution_count": 12,
   "metadata": {
    "collapsed": false,
    "jupyter": {
     "outputs_hidden": false
    }
   },
   "outputs": [
    {
     "name": "stderr",
     "output_type": "stream",
     "text": [
      "/var/folders/2v/vpx_7m4n5hndgbt2_txpfwxw0000gp/T/ipykernel_44098/1014264163.py:1: FutureWarning: The default value of numeric_only in DataFrameGroupBy.mean is deprecated. In a future version, numeric_only will default to False. Either specify numeric_only or select only columns which should be valid for the function.\n",
      "  pd.pivot_table(df, index=['Gender','Married','Education','Self_Employed','Property_Area'])\n"
     ]
    },
    {
     "data": {
      "text/html": [
       "<div>\n",
       "<style scoped>\n",
       "    .dataframe tbody tr th:only-of-type {\n",
       "        vertical-align: middle;\n",
       "    }\n",
       "\n",
       "    .dataframe tbody tr th {\n",
       "        vertical-align: top;\n",
       "    }\n",
       "\n",
       "    .dataframe thead th {\n",
       "        text-align: right;\n",
       "    }\n",
       "</style>\n",
       "<table border=\"1\" class=\"dataframe\">\n",
       "  <thead>\n",
       "    <tr style=\"text-align: right;\">\n",
       "      <th></th>\n",
       "      <th></th>\n",
       "      <th></th>\n",
       "      <th></th>\n",
       "      <th></th>\n",
       "      <th>ApplicantIncome</th>\n",
       "      <th>CoapplicantIncome</th>\n",
       "      <th>Credit_History</th>\n",
       "      <th>LoanAmount</th>\n",
       "      <th>Loan_Amount_Term</th>\n",
       "    </tr>\n",
       "    <tr>\n",
       "      <th>Gender</th>\n",
       "      <th>Married</th>\n",
       "      <th>Education</th>\n",
       "      <th>Self_Employed</th>\n",
       "      <th>Property_Area</th>\n",
       "      <th></th>\n",
       "      <th></th>\n",
       "      <th></th>\n",
       "      <th></th>\n",
       "      <th></th>\n",
       "    </tr>\n",
       "  </thead>\n",
       "  <tbody>\n",
       "    <tr>\n",
       "      <th rowspan=\"20\" valign=\"top\">Female</th>\n",
       "      <th rowspan=\"11\" valign=\"top\">No</th>\n",
       "      <th rowspan=\"6\" valign=\"top\">Graduate</th>\n",
       "      <th rowspan=\"3\" valign=\"top\">No</th>\n",
       "      <th>Rural</th>\n",
       "      <td>4088.076923</td>\n",
       "      <td>964.692308</td>\n",
       "      <td>1.000000</td>\n",
       "      <td>126.230769</td>\n",
       "      <td>378.461538</td>\n",
       "    </tr>\n",
       "    <tr>\n",
       "      <th>Semiurban</th>\n",
       "      <td>4169.238095</td>\n",
       "      <td>621.666667</td>\n",
       "      <td>0.700000</td>\n",
       "      <td>121.523810</td>\n",
       "      <td>344.571429</td>\n",
       "    </tr>\n",
       "    <tr>\n",
       "      <th>Urban</th>\n",
       "      <td>4165.000000</td>\n",
       "      <td>353.368421</td>\n",
       "      <td>0.777778</td>\n",
       "      <td>96.052632</td>\n",
       "      <td>356.666667</td>\n",
       "    </tr>\n",
       "    <tr>\n",
       "      <th rowspan=\"3\" valign=\"top\">Yes</th>\n",
       "      <th>Rural</th>\n",
       "      <td>7441.000000</td>\n",
       "      <td>0.000000</td>\n",
       "      <td>1.000000</td>\n",
       "      <td>194.000000</td>\n",
       "      <td>360.000000</td>\n",
       "    </tr>\n",
       "    <tr>\n",
       "      <th>Semiurban</th>\n",
       "      <td>7803.400000</td>\n",
       "      <td>343.400000</td>\n",
       "      <td>0.800000</td>\n",
       "      <td>109.250000</td>\n",
       "      <td>348.000000</td>\n",
       "    </tr>\n",
       "    <tr>\n",
       "      <th>Urban</th>\n",
       "      <td>2981.500000</td>\n",
       "      <td>0.000000</td>\n",
       "      <td>NaN</td>\n",
       "      <td>107.500000</td>\n",
       "      <td>360.000000</td>\n",
       "    </tr>\n",
       "    <tr>\n",
       "      <th rowspan=\"5\" valign=\"top\">Not Graduate</th>\n",
       "      <th rowspan=\"3\" valign=\"top\">No</th>\n",
       "      <th>Rural</th>\n",
       "      <td>3642.250000</td>\n",
       "      <td>0.000000</td>\n",
       "      <td>1.000000</td>\n",
       "      <td>99.000000</td>\n",
       "      <td>360.000000</td>\n",
       "    </tr>\n",
       "    <tr>\n",
       "      <th>Semiurban</th>\n",
       "      <td>2845.333333</td>\n",
       "      <td>0.000000</td>\n",
       "      <td>1.000000</td>\n",
       "      <td>81.000000</td>\n",
       "      <td>360.000000</td>\n",
       "    </tr>\n",
       "    <tr>\n",
       "      <th>Urban</th>\n",
       "      <td>2152.333333</td>\n",
       "      <td>788.333333</td>\n",
       "      <td>0.333333</td>\n",
       "      <td>100.000000</td>\n",
       "      <td>360.000000</td>\n",
       "    </tr>\n",
       "    <tr>\n",
       "      <th rowspan=\"2\" valign=\"top\">Yes</th>\n",
       "      <th>Semiurban</th>\n",
       "      <td>10565.000000</td>\n",
       "      <td>0.000000</td>\n",
       "      <td>1.000000</td>\n",
       "      <td>143.500000</td>\n",
       "      <td>360.000000</td>\n",
       "    </tr>\n",
       "    <tr>\n",
       "      <th>Urban</th>\n",
       "      <td>18165.000000</td>\n",
       "      <td>0.000000</td>\n",
       "      <td>1.000000</td>\n",
       "      <td>125.000000</td>\n",
       "      <td>360.000000</td>\n",
       "    </tr>\n",
       "    <tr>\n",
       "      <th rowspan=\"9\" valign=\"top\">Yes</th>\n",
       "      <th rowspan=\"6\" valign=\"top\">Graduate</th>\n",
       "      <th rowspan=\"3\" valign=\"top\">No</th>\n",
       "      <th>Rural</th>\n",
       "      <td>4583.000000</td>\n",
       "      <td>0.000000</td>\n",
       "      <td>1.000000</td>\n",
       "      <td>98.000000</td>\n",
       "      <td>360.000000</td>\n",
       "    </tr>\n",
       "    <tr>\n",
       "      <th>Semiurban</th>\n",
       "      <td>3907.571429</td>\n",
       "      <td>1709.285714</td>\n",
       "      <td>1.000000</td>\n",
       "      <td>148.928571</td>\n",
       "      <td>336.000000</td>\n",
       "    </tr>\n",
       "    <tr>\n",
       "      <th>Urban</th>\n",
       "      <td>5577.600000</td>\n",
       "      <td>1554.400000</td>\n",
       "      <td>0.800000</td>\n",
       "      <td>120.400000</td>\n",
       "      <td>360.000000</td>\n",
       "    </tr>\n",
       "    <tr>\n",
       "      <th rowspan=\"3\" valign=\"top\">Yes</th>\n",
       "      <th>Rural</th>\n",
       "      <td>5500.000000</td>\n",
       "      <td>0.000000</td>\n",
       "      <td>0.000000</td>\n",
       "      <td>105.000000</td>\n",
       "      <td>360.000000</td>\n",
       "    </tr>\n",
       "    <tr>\n",
       "      <th>Semiurban</th>\n",
       "      <td>19484.000000</td>\n",
       "      <td>0.000000</td>\n",
       "      <td>1.000000</td>\n",
       "      <td>600.000000</td>\n",
       "      <td>360.000000</td>\n",
       "    </tr>\n",
       "    <tr>\n",
       "      <th>Urban</th>\n",
       "      <td>11500.000000</td>\n",
       "      <td>0.000000</td>\n",
       "      <td>0.000000</td>\n",
       "      <td>286.000000</td>\n",
       "      <td>360.000000</td>\n",
       "    </tr>\n",
       "    <tr>\n",
       "      <th rowspan=\"3\" valign=\"top\">Not Graduate</th>\n",
       "      <th rowspan=\"2\" valign=\"top\">No</th>\n",
       "      <th>Rural</th>\n",
       "      <td>4100.000000</td>\n",
       "      <td>0.000000</td>\n",
       "      <td>NaN</td>\n",
       "      <td>124.000000</td>\n",
       "      <td>360.000000</td>\n",
       "    </tr>\n",
       "    <tr>\n",
       "      <th>Semiurban</th>\n",
       "      <td>2364.666667</td>\n",
       "      <td>1848.000000</td>\n",
       "      <td>0.500000</td>\n",
       "      <td>126.666667</td>\n",
       "      <td>360.000000</td>\n",
       "    </tr>\n",
       "    <tr>\n",
       "      <th>Yes</th>\n",
       "      <th>Rural</th>\n",
       "      <td>7142.000000</td>\n",
       "      <td>0.000000</td>\n",
       "      <td>1.000000</td>\n",
       "      <td>138.000000</td>\n",
       "      <td>360.000000</td>\n",
       "    </tr>\n",
       "    <tr>\n",
       "      <th rowspan=\"24\" valign=\"top\">Male</th>\n",
       "      <th rowspan=\"12\" valign=\"top\">No</th>\n",
       "      <th rowspan=\"6\" valign=\"top\">Graduate</th>\n",
       "      <th rowspan=\"3\" valign=\"top\">No</th>\n",
       "      <th>Rural</th>\n",
       "      <td>5871.888889</td>\n",
       "      <td>1856.703704</td>\n",
       "      <td>0.730769</td>\n",
       "      <td>169.846154</td>\n",
       "      <td>360.000000</td>\n",
       "    </tr>\n",
       "    <tr>\n",
       "      <th>Semiurban</th>\n",
       "      <td>5713.750000</td>\n",
       "      <td>1660.214286</td>\n",
       "      <td>0.814815</td>\n",
       "      <td>129.222222</td>\n",
       "      <td>366.428571</td>\n",
       "    </tr>\n",
       "    <tr>\n",
       "      <th>Urban</th>\n",
       "      <td>4005.384615</td>\n",
       "      <td>2352.269231</td>\n",
       "      <td>0.961538</td>\n",
       "      <td>114.040000</td>\n",
       "      <td>350.769231</td>\n",
       "    </tr>\n",
       "    <tr>\n",
       "      <th rowspan=\"3\" valign=\"top\">Yes</th>\n",
       "      <th>Rural</th>\n",
       "      <td>5971.333333</td>\n",
       "      <td>0.000000</td>\n",
       "      <td>1.000000</td>\n",
       "      <td>149.000000</td>\n",
       "      <td>360.000000</td>\n",
       "    </tr>\n",
       "    <tr>\n",
       "      <th>Semiurban</th>\n",
       "      <td>6400.333333</td>\n",
       "      <td>0.000000</td>\n",
       "      <td>1.000000</td>\n",
       "      <td>129.000000</td>\n",
       "      <td>300.000000</td>\n",
       "    </tr>\n",
       "    <tr>\n",
       "      <th>Urban</th>\n",
       "      <td>11841.500000</td>\n",
       "      <td>722.166667</td>\n",
       "      <td>0.600000</td>\n",
       "      <td>226.666667</td>\n",
       "      <td>350.000000</td>\n",
       "    </tr>\n",
       "    <tr>\n",
       "      <th rowspan=\"6\" valign=\"top\">Not Graduate</th>\n",
       "      <th rowspan=\"3\" valign=\"top\">No</th>\n",
       "      <th>Rural</th>\n",
       "      <td>4208.900000</td>\n",
       "      <td>808.200000</td>\n",
       "      <td>0.900000</td>\n",
       "      <td>96.500000</td>\n",
       "      <td>353.333333</td>\n",
       "    </tr>\n",
       "    <tr>\n",
       "      <th>Semiurban</th>\n",
       "      <td>3651.888889</td>\n",
       "      <td>1305.888889</td>\n",
       "      <td>1.000000</td>\n",
       "      <td>102.888889</td>\n",
       "      <td>297.333333</td>\n",
       "    </tr>\n",
       "    <tr>\n",
       "      <th>Urban</th>\n",
       "      <td>2548.000000</td>\n",
       "      <td>617.500000</td>\n",
       "      <td>0.600000</td>\n",
       "      <td>84.600000</td>\n",
       "      <td>300.000000</td>\n",
       "    </tr>\n",
       "    <tr>\n",
       "      <th rowspan=\"3\" valign=\"top\">Yes</th>\n",
       "      <th>Rural</th>\n",
       "      <td>2583.000000</td>\n",
       "      <td>2167.000000</td>\n",
       "      <td>1.000000</td>\n",
       "      <td>104.000000</td>\n",
       "      <td>360.000000</td>\n",
       "    </tr>\n",
       "    <tr>\n",
       "      <th>Semiurban</th>\n",
       "      <td>4284.500000</td>\n",
       "      <td>771.000000</td>\n",
       "      <td>1.000000</td>\n",
       "      <td>161.000000</td>\n",
       "      <td>360.000000</td>\n",
       "    </tr>\n",
       "    <tr>\n",
       "      <th>Urban</th>\n",
       "      <td>4053.000000</td>\n",
       "      <td>2426.000000</td>\n",
       "      <td>0.000000</td>\n",
       "      <td>158.000000</td>\n",
       "      <td>360.000000</td>\n",
       "    </tr>\n",
       "    <tr>\n",
       "      <th rowspan=\"12\" valign=\"top\">Yes</th>\n",
       "      <th rowspan=\"6\" valign=\"top\">Graduate</th>\n",
       "      <th rowspan=\"3\" valign=\"top\">No</th>\n",
       "      <th>Rural</th>\n",
       "      <td>6536.950000</td>\n",
       "      <td>2153.535333</td>\n",
       "      <td>0.833333</td>\n",
       "      <td>161.620690</td>\n",
       "      <td>332.949153</td>\n",
       "    </tr>\n",
       "    <tr>\n",
       "      <th>Semiurban</th>\n",
       "      <td>5581.058824</td>\n",
       "      <td>1983.341176</td>\n",
       "      <td>0.901235</td>\n",
       "      <td>167.380952</td>\n",
       "      <td>348.571429</td>\n",
       "    </tr>\n",
       "    <tr>\n",
       "      <th>Urban</th>\n",
       "      <td>5290.038462</td>\n",
       "      <td>1513.535897</td>\n",
       "      <td>0.871429</td>\n",
       "      <td>149.918919</td>\n",
       "      <td>334.421053</td>\n",
       "    </tr>\n",
       "    <tr>\n",
       "      <th rowspan=\"3\" valign=\"top\">Yes</th>\n",
       "      <th>Rural</th>\n",
       "      <td>7663.466667</td>\n",
       "      <td>2221.333333</td>\n",
       "      <td>0.785714</td>\n",
       "      <td>214.071429</td>\n",
       "      <td>333.600000</td>\n",
       "    </tr>\n",
       "    <tr>\n",
       "      <th>Semiurban</th>\n",
       "      <td>8400.571429</td>\n",
       "      <td>1399.000000</td>\n",
       "      <td>0.928571</td>\n",
       "      <td>142.384615</td>\n",
       "      <td>332.307692</td>\n",
       "    </tr>\n",
       "    <tr>\n",
       "      <th>Urban</th>\n",
       "      <td>5692.444444</td>\n",
       "      <td>4175.666667</td>\n",
       "      <td>0.888889</td>\n",
       "      <td>179.777778</td>\n",
       "      <td>340.000000</td>\n",
       "    </tr>\n",
       "    <tr>\n",
       "      <th rowspan=\"6\" valign=\"top\">Not Graduate</th>\n",
       "      <th rowspan=\"3\" valign=\"top\">No</th>\n",
       "      <th>Rural</th>\n",
       "      <td>3640.391304</td>\n",
       "      <td>1413.608696</td>\n",
       "      <td>0.750000</td>\n",
       "      <td>134.285714</td>\n",
       "      <td>343.636364</td>\n",
       "    </tr>\n",
       "    <tr>\n",
       "      <th>Semiurban</th>\n",
       "      <td>3365.863636</td>\n",
       "      <td>1649.727273</td>\n",
       "      <td>0.750000</td>\n",
       "      <td>122.818182</td>\n",
       "      <td>342.857143</td>\n",
       "    </tr>\n",
       "    <tr>\n",
       "      <th>Urban</th>\n",
       "      <td>3522.923077</td>\n",
       "      <td>1692.423077</td>\n",
       "      <td>0.708333</td>\n",
       "      <td>118.782609</td>\n",
       "      <td>306.923077</td>\n",
       "    </tr>\n",
       "    <tr>\n",
       "      <th rowspan=\"3\" valign=\"top\">Yes</th>\n",
       "      <th>Rural</th>\n",
       "      <td>4898.333333</td>\n",
       "      <td>1483.000000</td>\n",
       "      <td>0.666667</td>\n",
       "      <td>160.666667</td>\n",
       "      <td>300.000000</td>\n",
       "    </tr>\n",
       "    <tr>\n",
       "      <th>Semiurban</th>\n",
       "      <td>3184.000000</td>\n",
       "      <td>1592.333333</td>\n",
       "      <td>1.000000</td>\n",
       "      <td>104.666667</td>\n",
       "      <td>360.000000</td>\n",
       "    </tr>\n",
       "    <tr>\n",
       "      <th>Urban</th>\n",
       "      <td>5510.000000</td>\n",
       "      <td>0.000000</td>\n",
       "      <td>1.000000</td>\n",
       "      <td>119.666667</td>\n",
       "      <td>210.000000</td>\n",
       "    </tr>\n",
       "  </tbody>\n",
       "</table>\n",
       "</div>"
      ],
      "text/plain": [
       "                                                         ApplicantIncome  \\\n",
       "Gender Married Education    Self_Employed Property_Area                    \n",
       "Female No      Graduate     No            Rural              4088.076923   \n",
       "                                          Semiurban          4169.238095   \n",
       "                                          Urban              4165.000000   \n",
       "                            Yes           Rural              7441.000000   \n",
       "                                          Semiurban          7803.400000   \n",
       "                                          Urban              2981.500000   \n",
       "               Not Graduate No            Rural              3642.250000   \n",
       "                                          Semiurban          2845.333333   \n",
       "                                          Urban              2152.333333   \n",
       "                            Yes           Semiurban         10565.000000   \n",
       "                                          Urban             18165.000000   \n",
       "       Yes     Graduate     No            Rural              4583.000000   \n",
       "                                          Semiurban          3907.571429   \n",
       "                                          Urban              5577.600000   \n",
       "                            Yes           Rural              5500.000000   \n",
       "                                          Semiurban         19484.000000   \n",
       "                                          Urban             11500.000000   \n",
       "               Not Graduate No            Rural              4100.000000   \n",
       "                                          Semiurban          2364.666667   \n",
       "                            Yes           Rural              7142.000000   \n",
       "Male   No      Graduate     No            Rural              5871.888889   \n",
       "                                          Semiurban          5713.750000   \n",
       "                                          Urban              4005.384615   \n",
       "                            Yes           Rural              5971.333333   \n",
       "                                          Semiurban          6400.333333   \n",
       "                                          Urban             11841.500000   \n",
       "               Not Graduate No            Rural              4208.900000   \n",
       "                                          Semiurban          3651.888889   \n",
       "                                          Urban              2548.000000   \n",
       "                            Yes           Rural              2583.000000   \n",
       "                                          Semiurban          4284.500000   \n",
       "                                          Urban              4053.000000   \n",
       "       Yes     Graduate     No            Rural              6536.950000   \n",
       "                                          Semiurban          5581.058824   \n",
       "                                          Urban              5290.038462   \n",
       "                            Yes           Rural              7663.466667   \n",
       "                                          Semiurban          8400.571429   \n",
       "                                          Urban              5692.444444   \n",
       "               Not Graduate No            Rural              3640.391304   \n",
       "                                          Semiurban          3365.863636   \n",
       "                                          Urban              3522.923077   \n",
       "                            Yes           Rural              4898.333333   \n",
       "                                          Semiurban          3184.000000   \n",
       "                                          Urban              5510.000000   \n",
       "\n",
       "                                                         CoapplicantIncome  \\\n",
       "Gender Married Education    Self_Employed Property_Area                      \n",
       "Female No      Graduate     No            Rural                 964.692308   \n",
       "                                          Semiurban             621.666667   \n",
       "                                          Urban                 353.368421   \n",
       "                            Yes           Rural                   0.000000   \n",
       "                                          Semiurban             343.400000   \n",
       "                                          Urban                   0.000000   \n",
       "               Not Graduate No            Rural                   0.000000   \n",
       "                                          Semiurban               0.000000   \n",
       "                                          Urban                 788.333333   \n",
       "                            Yes           Semiurban               0.000000   \n",
       "                                          Urban                   0.000000   \n",
       "       Yes     Graduate     No            Rural                   0.000000   \n",
       "                                          Semiurban            1709.285714   \n",
       "                                          Urban                1554.400000   \n",
       "                            Yes           Rural                   0.000000   \n",
       "                                          Semiurban               0.000000   \n",
       "                                          Urban                   0.000000   \n",
       "               Not Graduate No            Rural                   0.000000   \n",
       "                                          Semiurban            1848.000000   \n",
       "                            Yes           Rural                   0.000000   \n",
       "Male   No      Graduate     No            Rural                1856.703704   \n",
       "                                          Semiurban            1660.214286   \n",
       "                                          Urban                2352.269231   \n",
       "                            Yes           Rural                   0.000000   \n",
       "                                          Semiurban               0.000000   \n",
       "                                          Urban                 722.166667   \n",
       "               Not Graduate No            Rural                 808.200000   \n",
       "                                          Semiurban            1305.888889   \n",
       "                                          Urban                 617.500000   \n",
       "                            Yes           Rural                2167.000000   \n",
       "                                          Semiurban             771.000000   \n",
       "                                          Urban                2426.000000   \n",
       "       Yes     Graduate     No            Rural                2153.535333   \n",
       "                                          Semiurban            1983.341176   \n",
       "                                          Urban                1513.535897   \n",
       "                            Yes           Rural                2221.333333   \n",
       "                                          Semiurban            1399.000000   \n",
       "                                          Urban                4175.666667   \n",
       "               Not Graduate No            Rural                1413.608696   \n",
       "                                          Semiurban            1649.727273   \n",
       "                                          Urban                1692.423077   \n",
       "                            Yes           Rural                1483.000000   \n",
       "                                          Semiurban            1592.333333   \n",
       "                                          Urban                   0.000000   \n",
       "\n",
       "                                                         Credit_History  \\\n",
       "Gender Married Education    Self_Employed Property_Area                   \n",
       "Female No      Graduate     No            Rural                1.000000   \n",
       "                                          Semiurban            0.700000   \n",
       "                                          Urban                0.777778   \n",
       "                            Yes           Rural                1.000000   \n",
       "                                          Semiurban            0.800000   \n",
       "                                          Urban                     NaN   \n",
       "               Not Graduate No            Rural                1.000000   \n",
       "                                          Semiurban            1.000000   \n",
       "                                          Urban                0.333333   \n",
       "                            Yes           Semiurban            1.000000   \n",
       "                                          Urban                1.000000   \n",
       "       Yes     Graduate     No            Rural                1.000000   \n",
       "                                          Semiurban            1.000000   \n",
       "                                          Urban                0.800000   \n",
       "                            Yes           Rural                0.000000   \n",
       "                                          Semiurban            1.000000   \n",
       "                                          Urban                0.000000   \n",
       "               Not Graduate No            Rural                     NaN   \n",
       "                                          Semiurban            0.500000   \n",
       "                            Yes           Rural                1.000000   \n",
       "Male   No      Graduate     No            Rural                0.730769   \n",
       "                                          Semiurban            0.814815   \n",
       "                                          Urban                0.961538   \n",
       "                            Yes           Rural                1.000000   \n",
       "                                          Semiurban            1.000000   \n",
       "                                          Urban                0.600000   \n",
       "               Not Graduate No            Rural                0.900000   \n",
       "                                          Semiurban            1.000000   \n",
       "                                          Urban                0.600000   \n",
       "                            Yes           Rural                1.000000   \n",
       "                                          Semiurban            1.000000   \n",
       "                                          Urban                0.000000   \n",
       "       Yes     Graduate     No            Rural                0.833333   \n",
       "                                          Semiurban            0.901235   \n",
       "                                          Urban                0.871429   \n",
       "                            Yes           Rural                0.785714   \n",
       "                                          Semiurban            0.928571   \n",
       "                                          Urban                0.888889   \n",
       "               Not Graduate No            Rural                0.750000   \n",
       "                                          Semiurban            0.750000   \n",
       "                                          Urban                0.708333   \n",
       "                            Yes           Rural                0.666667   \n",
       "                                          Semiurban            1.000000   \n",
       "                                          Urban                1.000000   \n",
       "\n",
       "                                                         LoanAmount  \\\n",
       "Gender Married Education    Self_Employed Property_Area               \n",
       "Female No      Graduate     No            Rural          126.230769   \n",
       "                                          Semiurban      121.523810   \n",
       "                                          Urban           96.052632   \n",
       "                            Yes           Rural          194.000000   \n",
       "                                          Semiurban      109.250000   \n",
       "                                          Urban          107.500000   \n",
       "               Not Graduate No            Rural           99.000000   \n",
       "                                          Semiurban       81.000000   \n",
       "                                          Urban          100.000000   \n",
       "                            Yes           Semiurban      143.500000   \n",
       "                                          Urban          125.000000   \n",
       "       Yes     Graduate     No            Rural           98.000000   \n",
       "                                          Semiurban      148.928571   \n",
       "                                          Urban          120.400000   \n",
       "                            Yes           Rural          105.000000   \n",
       "                                          Semiurban      600.000000   \n",
       "                                          Urban          286.000000   \n",
       "               Not Graduate No            Rural          124.000000   \n",
       "                                          Semiurban      126.666667   \n",
       "                            Yes           Rural          138.000000   \n",
       "Male   No      Graduate     No            Rural          169.846154   \n",
       "                                          Semiurban      129.222222   \n",
       "                                          Urban          114.040000   \n",
       "                            Yes           Rural          149.000000   \n",
       "                                          Semiurban      129.000000   \n",
       "                                          Urban          226.666667   \n",
       "               Not Graduate No            Rural           96.500000   \n",
       "                                          Semiurban      102.888889   \n",
       "                                          Urban           84.600000   \n",
       "                            Yes           Rural          104.000000   \n",
       "                                          Semiurban      161.000000   \n",
       "                                          Urban          158.000000   \n",
       "       Yes     Graduate     No            Rural          161.620690   \n",
       "                                          Semiurban      167.380952   \n",
       "                                          Urban          149.918919   \n",
       "                            Yes           Rural          214.071429   \n",
       "                                          Semiurban      142.384615   \n",
       "                                          Urban          179.777778   \n",
       "               Not Graduate No            Rural          134.285714   \n",
       "                                          Semiurban      122.818182   \n",
       "                                          Urban          118.782609   \n",
       "                            Yes           Rural          160.666667   \n",
       "                                          Semiurban      104.666667   \n",
       "                                          Urban          119.666667   \n",
       "\n",
       "                                                         Loan_Amount_Term  \n",
       "Gender Married Education    Self_Employed Property_Area                    \n",
       "Female No      Graduate     No            Rural                378.461538  \n",
       "                                          Semiurban            344.571429  \n",
       "                                          Urban                356.666667  \n",
       "                            Yes           Rural                360.000000  \n",
       "                                          Semiurban            348.000000  \n",
       "                                          Urban                360.000000  \n",
       "               Not Graduate No            Rural                360.000000  \n",
       "                                          Semiurban            360.000000  \n",
       "                                          Urban                360.000000  \n",
       "                            Yes           Semiurban            360.000000  \n",
       "                                          Urban                360.000000  \n",
       "       Yes     Graduate     No            Rural                360.000000  \n",
       "                                          Semiurban            336.000000  \n",
       "                                          Urban                360.000000  \n",
       "                            Yes           Rural                360.000000  \n",
       "                                          Semiurban            360.000000  \n",
       "                                          Urban                360.000000  \n",
       "               Not Graduate No            Rural                360.000000  \n",
       "                                          Semiurban            360.000000  \n",
       "                            Yes           Rural                360.000000  \n",
       "Male   No      Graduate     No            Rural                360.000000  \n",
       "                                          Semiurban            366.428571  \n",
       "                                          Urban                350.769231  \n",
       "                            Yes           Rural                360.000000  \n",
       "                                          Semiurban            300.000000  \n",
       "                                          Urban                350.000000  \n",
       "               Not Graduate No            Rural                353.333333  \n",
       "                                          Semiurban            297.333333  \n",
       "                                          Urban                300.000000  \n",
       "                            Yes           Rural                360.000000  \n",
       "                                          Semiurban            360.000000  \n",
       "                                          Urban                360.000000  \n",
       "       Yes     Graduate     No            Rural                332.949153  \n",
       "                                          Semiurban            348.571429  \n",
       "                                          Urban                334.421053  \n",
       "                            Yes           Rural                333.600000  \n",
       "                                          Semiurban            332.307692  \n",
       "                                          Urban                340.000000  \n",
       "               Not Graduate No            Rural                343.636364  \n",
       "                                          Semiurban            342.857143  \n",
       "                                          Urban                306.923077  \n",
       "                            Yes           Rural                300.000000  \n",
       "                                          Semiurban            360.000000  \n",
       "                                          Urban                210.000000  "
      ]
     },
     "execution_count": 12,
     "metadata": {},
     "output_type": "execute_result"
    }
   ],
   "source": [
    "pd.pivot_table(df, index=['Gender','Married','Education','Self_Employed','Property_Area'])"
   ]
  },
  {
   "cell_type": "code",
   "execution_count": null,
   "metadata": {
    "collapsed": false,
    "jupyter": {
     "outputs_hidden": false
    }
   },
   "outputs": [],
   "source": []
  },
  {
   "cell_type": "code",
   "execution_count": null,
   "metadata": {},
   "outputs": [],
   "source": []
  },
  {
   "cell_type": "code",
   "execution_count": null,
   "metadata": {},
   "outputs": [],
   "source": []
  },
  {
   "cell_type": "markdown",
   "metadata": {},
   "source": [
    "## 3. Data Cleaning\n",
    "\n",
    "This step typically involves imputing missing values and treating outliers. "
   ]
  },
  {
   "cell_type": "markdown",
   "metadata": {},
   "source": [
    "### Imputing Missing Values\n",
    "\n",
    "Missing values may not always be NaNs. For instance, the `Loan_Amount_Term` might be 0, which does not make sense.\n",
    "\n"
   ]
  },
  {
   "cell_type": "markdown",
   "metadata": {},
   "source": [
    "Impute missing values for all columns. Use the values which you find most meaningful (mean, mode, median, zero.... maybe different mean values for different groups)"
   ]
  },
  {
   "cell_type": "code",
   "execution_count": 13,
   "metadata": {},
   "outputs": [
    {
     "name": "stdout",
     "output_type": "stream",
     "text": [
      "Gender : ['Female' 'Male' nan]\n",
      "Married : ['No' 'Yes' nan]\n",
      "Dependents : ['0' '1' '2' '3+' nan]\n",
      "Education : ['Graduate' 'Not Graduate']\n",
      "Self_Employed : ['No' 'Yes' nan]\n",
      "ApplicantIncome : [  150   210   416   645   674  1000  1025  1299  1378  1442  1500  1538\n",
      "  1600  1625  1668  1759  1782  1800  1809  1811  1820  1828  1830  1836\n",
      "  1853  1863  1875  1880  1907  1916  1926  1928  1958  1963  1977  1993\n",
      "  2000  2014  2031  2045  2058  2060  2071  2083  2130  2132  2137  2138\n",
      "  2149  2165  2167  2178  2192  2213  2214  2221  2237  2239  2253  2275\n",
      "  2281  2297  2301  2309  2330  2333  2346  2366  2378  2383  2395  2400\n",
      "  2423  2425  2435  2439  2454  2473  2479  2483  2484  2491  2492  2499\n",
      "  2500  2507  2510  2526  2550  2577  2583  2600  2609  2620  2625  2645\n",
      "  2647  2653  2661  2666  2667  2679  2698  2699  2708  2717  2718  2720\n",
      "  2726  2750  2755  2764  2768  2769  2785  2787  2799  2833  2873  2875\n",
      "  2876  2882  2889  2894  2895  2900  2917  2920  2927  2929  2935  2947\n",
      "  2957  2958  2965  2971  2980  2987  2995  3000  3010  3013  3015  3017\n",
      "  3029  3033  3036  3052  3062  3069  3073  3074  3075  3083  3086  3087\n",
      "  3089  3095  3100  3103  3125  3153  3155  3158  3159  3166  3167  3173\n",
      "  3180  3182  3189  3200  3208  3229  3232  3237  3244  3246  3250  3254\n",
      "  3273  3276  3283  3315  3316  3326  3333  3340  3357  3358  3365  3366\n",
      "  3399  3400  3406  3410  3416  3417  3418  3427  3430  3450  3459  3463\n",
      "  3466  3481  3497  3500  3510  3522  3523  3539  3541  3547  3572  3583\n",
      "  3588  3593  3596  3597  3598  3600  3601  3617  3620  3625  3652  3660\n",
      "  3667  3675  3676  3691  3692  3704  3707  3708  3716  3717  3727  3748\n",
      "  3750  3762  3775  3800  3812  3813  3814  3816  3833  3846  3850  3858\n",
      "  3859  3865  3867  3875  3887  3900  3902  3917  3927  3941  3948  3975\n",
      "  3987  3988  3992  3993  4000  4006  4009  4050  4053  4095  4100  4106\n",
      "  4124  4133  4160  4166  4167  4180  4188  4191  4200  4226  4230  4281\n",
      "  4283  4288  4300  4301  4310  4333  4342  4344  4350  4354  4384  4400\n",
      "  4408  4416  4467  4547  4554  4566  4583  4600  4606  4608  4616  4625\n",
      "  4652  4666  4680  4683  4691  4692  4695  4707  4708  4723  4735  4750\n",
      "  4755  4758  4817  4843  4860  4865  4885  4887  4895  4917  4923  4931\n",
      "  4945  4950  5000  5042  5050  5116  5124  5166  5167  5185  5191  5250\n",
      "  5266  5285  5316  5333  5391  5417  5468  5488  5500  5503  5516  5532\n",
      "  5568  5649  5667  5677  5695  5703  5708  5726  5746  5780  5800  5815\n",
      "  5818  5819  5821  5829  5849  5923  5935  5941  5955  6000  6033  6045\n",
      "  6050  6065  6080  6083  6096  6125  6133  6216  6250  6256  6277  6283\n",
      "  6325  6333  6383  6400  6406  6417  6500  6540  6608  6633  6700  6782\n",
      "  6783  6822  6875  6950  7085  7100  7142  7167  7200  7250  7333  7441\n",
      "  7451  7578  7583  7660  7667  7740  7787  7901  7933  7948  8000  8072\n",
      "  8080  8300  8333  8334  8566  8624  8666  8750  8799  9083  9166  9167\n",
      "  9323  9328  9357  9504  9508  9538  9560  9703  9833  9963 10000 10047\n",
      " 10139 10408 10416 10513 10750 10833 11000 11146 11250 11417 11500 11757\n",
      " 12000 12500 12841 12876 13262 13650 14583 14683 14866 14880 14999 15000\n",
      " 15759 16120 16250 16525 16666 16667 16692 17263 17500 18165 18333 19484\n",
      " 19730 20166 20233 20667 20833 23803 33846 37719 39147 39999 51763 63337\n",
      " 81000]\n",
      "CoapplicantIncome : [0.00000000e+00 1.61200008e+01 1.89000000e+02 2.40000000e+02\n",
      " 2.42000000e+02 4.61000000e+02 4.84000000e+02 5.05000000e+02\n",
      " 5.36000000e+02 6.63000000e+02 6.88000000e+02 7.00000000e+02\n",
      " 7.36000000e+02 7.54000000e+02 8.00000000e+02 8.30000000e+02\n",
      " 9.13000000e+02 9.23000000e+02 9.83000000e+02 9.85799988e+02\n",
      " 9.97000000e+02 1.00000000e+03 1.01000000e+03 1.01400000e+03\n",
      " 1.03000000e+03 1.03200000e+03 1.04000000e+03 1.04100000e+03\n",
      " 1.08300000e+03 1.08600000e+03 1.12500000e+03 1.12600000e+03\n",
      " 1.13100000e+03 1.16700000e+03 1.21000000e+03 1.21300000e+03\n",
      " 1.22900000e+03 1.25000000e+03 1.25500000e+03 1.26000000e+03\n",
      " 1.28000000e+03 1.28700000e+03 1.30000000e+03 1.30200000e+03\n",
      " 1.33000000e+03 1.37600000e+03 1.38700000e+03 1.39800000e+03\n",
      " 1.40000000e+03 1.41100000e+03 1.41700000e+03 1.42400000e+03\n",
      " 1.42500000e+03 1.43000000e+03 1.44700000e+03 1.45100000e+03\n",
      " 1.45600000e+03 1.45900000e+03 1.48300000e+03 1.50000000e+03\n",
      " 1.50800000e+03 1.51600000e+03 1.52200000e+03 1.52600000e+03\n",
      " 1.54200000e+03 1.56000000e+03 1.58700000e+03 1.59000000e+03\n",
      " 1.59100000e+03 1.60000000e+03 1.60300000e+03 1.61900000e+03\n",
      " 1.62500000e+03 1.63200000e+03 1.64000000e+03 1.64400000e+03\n",
      " 1.66400000e+03 1.66600000e+03 1.66700000e+03 1.66800000e+03\n",
      " 1.69500000e+03 1.70000000e+03 1.71000000e+03 1.71700000e+03\n",
      " 1.71900000e+03 1.73300000e+03 1.74200000e+03 1.75000000e+03\n",
      " 1.76900000e+03 1.77400000e+03 1.77500000e+03 1.77900000e+03\n",
      " 1.78300000e+03 1.79300000e+03 1.80000000e+03 1.80300000e+03\n",
      " 1.81100000e+03 1.82000000e+03 1.83300000e+03 1.84000000e+03\n",
      " 1.84200000e+03 1.84300000e+03 1.85100000e+03 1.85700000e+03\n",
      " 1.86300000e+03 1.86800000e+03 1.87200000e+03 1.87500000e+03\n",
      " 1.88100000e+03 1.91100000e+03 1.91500000e+03 1.91700000e+03\n",
      " 1.92900000e+03 1.95000000e+03 1.96400000e+03 1.98300000e+03\n",
      " 1.98700000e+03 1.99300000e+03 2.00000000e+03 2.00400000e+03\n",
      " 2.01400000e+03 2.01600000e+03 2.03300000e+03 2.03400000e+03\n",
      " 2.03500000e+03 2.04200000e+03 2.05400000e+03 2.06400000e+03\n",
      " 2.06700000e+03 2.07900000e+03 2.08300000e+03 2.08700000e+03\n",
      " 2.10000000e+03 2.11500000e+03 2.11800000e+03 2.13400000e+03\n",
      " 2.13800000e+03 2.14200000e+03 2.15700000e+03 2.16000000e+03\n",
      " 2.16600000e+03 2.16700000e+03 2.16800000e+03 2.18800000e+03\n",
      " 2.20000000e+03 2.20900000e+03 2.21000000e+03 2.22300000e+03\n",
      " 2.23200000e+03 2.25000000e+03 2.25300000e+03 2.25400000e+03\n",
      " 2.27500000e+03 2.28300000e+03 2.30200000e+03 2.30600000e+03\n",
      " 2.33000000e+03 2.33300000e+03 2.33600000e+03 2.34000000e+03\n",
      " 2.35800000e+03 2.36500000e+03 2.37500000e+03 2.38300000e+03\n",
      " 2.40000000e+03 2.40500000e+03 2.41600000e+03 2.41700000e+03\n",
      " 2.42600000e+03 2.43600000e+03 2.45100000e+03 2.45800000e+03\n",
      " 2.46600000e+03 2.50000000e+03 2.50400000e+03 2.52400000e+03\n",
      " 2.53100000e+03 2.54100000e+03 2.56900000e+03 2.58300000e+03\n",
      " 2.59800000e+03 2.66700000e+03 2.66900000e+03 2.73900000e+03\n",
      " 2.77300000e+03 2.78500000e+03 2.79100000e+03 2.79200000e+03\n",
      " 2.81600000e+03 2.84000000e+03 2.84500000e+03 2.85700000e+03\n",
      " 2.85900000e+03 2.90000000e+03 2.91700000e+03 2.92500000e+03\n",
      " 2.93400000e+03 2.98500000e+03 3.00000000e+03 3.01300000e+03\n",
      " 3.02100000e+03 3.02200000e+03 3.03300000e+03 3.05300000e+03\n",
      " 3.06600000e+03 3.13600000e+03 3.15000000e+03 3.16600000e+03\n",
      " 3.16700000e+03 3.23000000e+03 3.23700000e+03 3.25000000e+03\n",
      " 3.26300000e+03 3.27400000e+03 3.30000000e+03 3.33300000e+03\n",
      " 3.33400000e+03 3.36900000e+03 3.41600000e+03 3.42800000e+03\n",
      " 3.44000000e+03 3.44700000e+03 3.44900000e+03 3.50000000e+03\n",
      " 3.54100000e+03 3.58300000e+03 3.60000000e+03 3.66600000e+03\n",
      " 3.66700000e+03 3.68300000e+03 3.75000000e+03 3.79600000e+03\n",
      " 3.80000000e+03 3.80600000e+03 3.85000000e+03 3.89000000e+03\n",
      " 3.90600000e+03 4.00000000e+03 4.08300000e+03 4.11400000e+03\n",
      " 4.16700000e+03 4.19600000e+03 4.23200000e+03 4.25000000e+03\n",
      " 4.26600000e+03 4.30000000e+03 4.30100000e+03 4.33300000e+03\n",
      " 4.41600000e+03 4.41700000e+03 4.48600000e+03 4.49000000e+03\n",
      " 4.58300000e+03 4.59500000e+03 4.60000000e+03 4.64800000e+03\n",
      " 4.75000000e+03 4.98300000e+03 4.99600000e+03 5.00000000e+03\n",
      " 5.06300000e+03 5.06400000e+03 5.26600000e+03 5.29600000e+03\n",
      " 5.30200000e+03 5.50000000e+03 5.62400000e+03 5.62500000e+03\n",
      " 5.65400000e+03 5.70100000e+03 6.25000000e+03 6.66600000e+03\n",
      " 6.66700000e+03 7.10100000e+03 7.16600000e+03 7.21000000e+03\n",
      " 7.25000000e+03 7.75000000e+03 7.87300000e+03 8.10600000e+03\n",
      " 8.33300000e+03 8.98000000e+03 1.09680000e+04 1.13000000e+04\n",
      " 2.00000000e+04 3.38370000e+04 4.16670000e+04]\n",
      "LoanAmount : [  9.  17.  25.  26.  30.  35.  36.  40.  42.  44.  45.  46.  47.  48.\n",
      "  50.  53.  54.  55.  56.  58.  59.  60.  61.  62.  63.  65.  66.  67.\n",
      "  70.  71.  72.  73.  74.  75.  76.  78.  80.  81.  83.  84.  85.  86.\n",
      "  87.  88.  89.  90.  93.  94.  95.  96.  97.  98.  99. 100. 101. 102.\n",
      " 103. 104. 105. 106. 107. 108. 109. 110. 111. 112. 113. 114. 115. 116.\n",
      " 117. 118. 119. 120. 121. 122. 123. 124. 125. 126. 127. 128. 129. 130.\n",
      " 131. 132. 133. 134. 135. 136. 137. 138. 139. 140. 141. 142. 143. 144.\n",
      " 145. 146. 148. 149. 150. 151. 152. 153. 154. 155. 156. 157. 158. 159.\n",
      " 160. 161. 162. 164. 165. 166. 167. 168. 170. 172. 173. 175. 176. 178.\n",
      " 180. 181. 182. 184. 185. 186. 187. 188. 190. 191. 192. 194. 196. 200.\n",
      " 201. 205. 207. 208. 209. 210. 211. 214. 216. 218. 225. 228. 230. 234.\n",
      " 236. 239. 240. 242. 243. 244. 246. 250. 253. 255. 258. 259. 260. 265.\n",
      " 267. 275. 279. 280. 286. 290. 292. 296. 300. 304. 308. 311. 312. 315.\n",
      " 320. 324. 330. 349. 350. 360. 370. 376. 380. 400. 405. 436. 480. 490.\n",
      " 495. 496. 500. 570. 600. 650. 700.  nan]\n",
      "Loan_Amount_Term : [ 12.  36.  60.  84. 120. 180. 240. 300. 360. 480.  nan]\n",
      "Credit_History : [ 0.  1. nan]\n",
      "Property_Area : ['Rural' 'Semiurban' 'Urban']\n"
     ]
    }
   ],
   "source": [
    "\n",
    "for col in df.iloc[:,1:-1]:\n",
    "    print(f'{col} : {df[col].sort_values().unique()}')"
   ]
  },
  {
   "cell_type": "code",
   "execution_count": 14,
   "metadata": {
    "collapsed": false,
    "jupyter": {
     "outputs_hidden": false
    }
   },
   "outputs": [
    {
     "name": "stdout",
     "output_type": "stream",
     "text": [
      "<class 'pandas.core.frame.DataFrame'>\n",
      "Int64Index: 480 entries, 1 to 613\n",
      "Data columns (total 13 columns):\n",
      " #   Column             Non-Null Count  Dtype  \n",
      "---  ------             --------------  -----  \n",
      " 0   Loan_ID            480 non-null    object \n",
      " 1   Gender             480 non-null    object \n",
      " 2   Married            480 non-null    object \n",
      " 3   Dependents         480 non-null    object \n",
      " 4   Education          480 non-null    object \n",
      " 5   Self_Employed      480 non-null    object \n",
      " 6   ApplicantIncome    480 non-null    int64  \n",
      " 7   CoapplicantIncome  480 non-null    float64\n",
      " 8   LoanAmount         480 non-null    float64\n",
      " 9   Loan_Amount_Term   480 non-null    float64\n",
      " 10  Credit_History     480 non-null    float64\n",
      " 11  Property_Area      480 non-null    object \n",
      " 12  Loan_Status        480 non-null    object \n",
      "dtypes: float64(4), int64(1), object(8)\n",
      "memory usage: 52.5+ KB\n"
     ]
    }
   ],
   "source": [
    "df.dropna().info()"
   ]
  },
  {
   "cell_type": "markdown",
   "metadata": {},
   "source": [
    "### Extreme values\n",
    "Try a log transformation to get rid of the extreme values in `LoanAmount`. Plot the histogram before and after the transformation"
   ]
  },
  {
   "cell_type": "code",
   "execution_count": null,
   "metadata": {
    "collapsed": false,
    "jupyter": {
     "outputs_hidden": false
    }
   },
   "outputs": [],
   "source": []
  },
  {
   "cell_type": "markdown",
   "metadata": {},
   "source": [
    "Combine both incomes as total income and take a log transformation of the same."
   ]
  },
  {
   "cell_type": "code",
   "execution_count": null,
   "metadata": {
    "collapsed": false,
    "jupyter": {
     "outputs_hidden": false
    }
   },
   "outputs": [],
   "source": []
  },
  {
   "cell_type": "markdown",
   "metadata": {},
   "source": [
    "## 4. Building a Predictive Model"
   ]
  },
  {
   "cell_type": "code",
   "execution_count": null,
   "metadata": {},
   "outputs": [],
   "source": []
  },
  {
   "cell_type": "code",
   "execution_count": null,
   "metadata": {
    "collapsed": false,
    "jupyter": {
     "outputs_hidden": false
    }
   },
   "outputs": [],
   "source": []
  },
  {
   "cell_type": "markdown",
   "metadata": {},
   "source": [
    "Try paramater grid search to improve the results"
   ]
  },
  {
   "cell_type": "code",
   "execution_count": null,
   "metadata": {
    "collapsed": false,
    "jupyter": {
     "outputs_hidden": false
    }
   },
   "outputs": [],
   "source": []
  },
  {
   "cell_type": "code",
   "execution_count": null,
   "metadata": {
    "collapsed": false,
    "jupyter": {
     "outputs_hidden": false
    }
   },
   "outputs": [],
   "source": []
  },
  {
   "cell_type": "markdown",
   "metadata": {
    "jupyter": {
     "outputs_hidden": false
    }
   },
   "source": [
    "## 5. Using Pipeline\n",
    "If you didn't use pipelines before, transform your data prep, feat. engineering and modeling steps into Pipeline. It will be helpful for deployment.\n",
    "\n",
    "The goal here is to create the pipeline that will take one row of our dataset and predict the probability of being granted a loan.\n",
    "\n",
    "`pipeline.predict(x)`"
   ]
  },
  {
   "cell_type": "code",
   "execution_count": null,
   "metadata": {},
   "outputs": [],
   "source": []
  },
  {
   "cell_type": "code",
   "execution_count": null,
   "metadata": {},
   "outputs": [],
   "source": []
  },
  {
   "cell_type": "markdown",
   "metadata": {},
   "source": [
    "## 6. Deploy your model to cloud and test it with PostMan, BASH or Python"
   ]
  },
  {
   "cell_type": "code",
   "execution_count": null,
   "metadata": {},
   "outputs": [],
   "source": []
  },
  {
   "cell_type": "code",
   "execution_count": null,
   "metadata": {},
   "outputs": [],
   "source": []
  },
  {
   "cell_type": "code",
   "execution_count": null,
   "metadata": {},
   "outputs": [],
   "source": []
  }
 ],
 "metadata": {
  "kernelspec": {
   "display_name": "Lighthouse",
   "language": "python",
   "name": "lighthouse"
  },
  "language_info": {
   "codemirror_mode": {
    "name": "ipython",
    "version": 3
   },
   "file_extension": ".py",
   "mimetype": "text/x-python",
   "name": "python",
   "nbconvert_exporter": "python",
   "pygments_lexer": "ipython3",
   "version": "3.9.12"
  }
 },
 "nbformat": 4,
 "nbformat_minor": 4
}
